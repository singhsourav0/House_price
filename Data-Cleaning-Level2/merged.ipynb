{
 "cells": [
  {
   "cell_type": "markdown",
   "metadata": {},
   "source": [
    "Merging the house and flat data..."
   ]
  },
  {
   "cell_type": "code",
   "execution_count": 10,
   "metadata": {},
   "outputs": [],
   "source": [
    "import pandas as pd\n",
    "import numpy as np"
   ]
  },
  {
   "cell_type": "code",
   "execution_count": 16,
   "metadata": {},
   "outputs": [],
   "source": [
    "house = pd.read_csv(\"house_cleaned.csv\")\n",
    "flats= pd.read_csv(\"flats_cleaned.csv\")"
   ]
  },
  {
   "cell_type": "code",
   "execution_count": 17,
   "metadata": {},
   "outputs": [
    {
     "data": {
      "text/plain": [
       "(964, 20)"
      ]
     },
     "execution_count": 17,
     "metadata": {},
     "output_type": "execute_result"
    }
   ],
   "source": [
    "house.shape"
   ]
  },
  {
   "cell_type": "code",
   "execution_count": 18,
   "metadata": {},
   "outputs": [
    {
     "data": {
      "text/plain": [
       "(2996, 21)"
      ]
     },
     "execution_count": 18,
     "metadata": {},
     "output_type": "execute_result"
    }
   ],
   "source": [
    "flats.shape"
   ]
  },
  {
   "cell_type": "code",
   "execution_count": 19,
   "metadata": {},
   "outputs": [
    {
     "data": {
      "text/plain": [
       "Index(['property_name', 'property_type', 'property type', 'society', 'price',\n",
       "       'price_per_sqft', 'area', 'areaWithType', 'bedRoom', 'bathroom',\n",
       "       'balcony', 'additionalRoom', 'address', 'floorNum', 'facing',\n",
       "       'agePossession', 'nearbyLocations', 'description', 'furnishDetails',\n",
       "       'features', 'rating'],\n",
       "      dtype='object')"
      ]
     },
     "execution_count": 19,
     "metadata": {},
     "output_type": "execute_result"
    }
   ],
   "source": [
    "flats.columns"
   ]
  },
  {
   "cell_type": "code",
   "execution_count": 20,
   "metadata": {},
   "outputs": [],
   "source": [
    "# Drop the 3rd column by index\n",
    "flats = flats.drop(flats.columns[2], axis=1)\n"
   ]
  },
  {
   "cell_type": "code",
   "execution_count": 21,
   "metadata": {},
   "outputs": [
    {
     "data": {
      "text/plain": [
       "Index(['property_name', 'property_type', 'society', 'price', 'price_per_sqft',\n",
       "       'area', 'areaWithType', 'bedRoom', 'bathroom', 'balcony',\n",
       "       'additionalRoom', 'address', 'noOfFloor', 'facing', 'agePossession',\n",
       "       'nearbyLocations', 'description', 'furnishDetails', 'features',\n",
       "       'rating'],\n",
       "      dtype='object')"
      ]
     },
     "execution_count": 21,
     "metadata": {},
     "output_type": "execute_result"
    }
   ],
   "source": [
    "house.columns"
   ]
  },
  {
   "cell_type": "code",
   "execution_count": 22,
   "metadata": {},
   "outputs": [
    {
     "name": "stdout",
     "output_type": "stream",
     "text": [
      "Index(['property_name', 'property_type', 'society', 'price', 'price_per_sqft',\n",
      "       'area', 'areaWithType', 'bedRoom', 'bathroom', 'balcony',\n",
      "       'additionalRoom', 'address', 'floorNum', 'facing', 'agePossession',\n",
      "       'nearbyLocations', 'description', 'furnishDetails', 'features',\n",
      "       'rating'],\n",
      "      dtype='object')\n"
     ]
    }
   ],
   "source": [
    "print(flats.columns)"
   ]
  },
  {
   "cell_type": "code",
   "execution_count": 23,
   "metadata": {},
   "outputs": [
    {
     "data": {
      "text/plain": [
       "(2996, 20)"
      ]
     },
     "execution_count": 23,
     "metadata": {},
     "output_type": "execute_result"
    }
   ],
   "source": [
    "flats.shape"
   ]
  },
  {
   "cell_type": "code",
   "execution_count": 24,
   "metadata": {},
   "outputs": [],
   "source": [
    "df = pd.concat([flats,house],ignore_index=True)"
   ]
  },
  {
   "cell_type": "code",
   "execution_count": 25,
   "metadata": {},
   "outputs": [],
   "source": [
    "df = df.sample(df.shape[0],ignore_index=True)"
   ]
  },
  {
   "cell_type": "code",
   "execution_count": 27,
   "metadata": {},
   "outputs": [
    {
     "data": {
      "text/html": [
       "<div>\n",
       "<style scoped>\n",
       "    .dataframe tbody tr th:only-of-type {\n",
       "        vertical-align: middle;\n",
       "    }\n",
       "\n",
       "    .dataframe tbody tr th {\n",
       "        vertical-align: top;\n",
       "    }\n",
       "\n",
       "    .dataframe thead th {\n",
       "        text-align: right;\n",
       "    }\n",
       "</style>\n",
       "<table border=\"1\" class=\"dataframe\">\n",
       "  <thead>\n",
       "    <tr style=\"text-align: right;\">\n",
       "      <th></th>\n",
       "      <th>property_name</th>\n",
       "      <th>property_type</th>\n",
       "      <th>society</th>\n",
       "      <th>price</th>\n",
       "      <th>price_per_sqft</th>\n",
       "      <th>area</th>\n",
       "      <th>areaWithType</th>\n",
       "      <th>bedRoom</th>\n",
       "      <th>bathroom</th>\n",
       "      <th>balcony</th>\n",
       "      <th>...</th>\n",
       "      <th>address</th>\n",
       "      <th>floorNum</th>\n",
       "      <th>facing</th>\n",
       "      <th>agePossession</th>\n",
       "      <th>nearbyLocations</th>\n",
       "      <th>description</th>\n",
       "      <th>furnishDetails</th>\n",
       "      <th>features</th>\n",
       "      <th>rating</th>\n",
       "      <th>noOfFloor</th>\n",
       "    </tr>\n",
       "  </thead>\n",
       "  <tbody>\n",
       "    <tr>\n",
       "      <th>0</th>\n",
       "      <td>3 Bedroom House for sale in Sector 38 Gurgaon</td>\n",
       "      <td>house</td>\n",
       "      <td>independent</td>\n",
       "      <td>3.50</td>\n",
       "      <td>24306.0</td>\n",
       "      <td>1440.0</td>\n",
       "      <td>Carpet area: 160 (133.78 sq.m.)</td>\n",
       "      <td>3</td>\n",
       "      <td>3</td>\n",
       "      <td>2</td>\n",
       "      <td>...</td>\n",
       "      <td>Sector 38, Sector 38 Gurgaon, Gurgaon, Haryana</td>\n",
       "      <td>NaN</td>\n",
       "      <td>East</td>\n",
       "      <td>1 to 5 Year Old</td>\n",
       "      <td>NaN</td>\n",
       "      <td>Best in class property available at sector 38 ...</td>\n",
       "      <td>NaN</td>\n",
       "      <td>NaN</td>\n",
       "      <td>['Environment4 out of 5', 'Lifestyle4 out of 5...</td>\n",
       "      <td>1.0</td>\n",
       "    </tr>\n",
       "    <tr>\n",
       "      <th>1</th>\n",
       "      <td>3 BHK Flat in Sector 106 Gurgaon</td>\n",
       "      <td>flat</td>\n",
       "      <td>paras dews</td>\n",
       "      <td>1.40</td>\n",
       "      <td>6000.0</td>\n",
       "      <td>2333.0</td>\n",
       "      <td>Super Built up area 1760(163.51 sq.m.)</td>\n",
       "      <td>3</td>\n",
       "      <td>4</td>\n",
       "      <td>3+</td>\n",
       "      <td>...</td>\n",
       "      <td>Sector 106 Gurgaon, Gurgaon, Haryana</td>\n",
       "      <td>12.0</td>\n",
       "      <td>NaN</td>\n",
       "      <td>Under Construction</td>\n",
       "      <td>['Chintapurni Mandir', 'State bank ATM', 'R K ...</td>\n",
       "      <td>Best location, almost ready to move</td>\n",
       "      <td>[]</td>\n",
       "      <td>NaN</td>\n",
       "      <td>NaN</td>\n",
       "      <td>NaN</td>\n",
       "    </tr>\n",
       "    <tr>\n",
       "      <th>2</th>\n",
       "      <td>3 BHK Flat in Suncity</td>\n",
       "      <td>flat</td>\n",
       "      <td>new sathi apartments</td>\n",
       "      <td>1.59</td>\n",
       "      <td>7066.0</td>\n",
       "      <td>2250.0</td>\n",
       "      <td>Built Up area: 2250 (209.03 sq.m.)</td>\n",
       "      <td>3</td>\n",
       "      <td>3</td>\n",
       "      <td>3+</td>\n",
       "      <td>...</td>\n",
       "      <td>000, Suncity, Gurgaon, Haryana</td>\n",
       "      <td>3.0</td>\n",
       "      <td>North</td>\n",
       "      <td>5 to 10 Year Old</td>\n",
       "      <td>['Sector metro station', 'Sector metro station...</td>\n",
       "      <td>Brokers please excuse\\n3 bhk +study room resid...</td>\n",
       "      <td>['3 Wardrobe', '1 Water Purifier', '4 Fan', '1...</td>\n",
       "      <td>['Security / Fire Alarm', 'Power Back-up', 'Fe...</td>\n",
       "      <td>['Environment5 out of 5', 'Lifestyle4.5 out of...</td>\n",
       "      <td>NaN</td>\n",
       "    </tr>\n",
       "    <tr>\n",
       "      <th>3</th>\n",
       "      <td>2 BHK Flat in Sector 37D Gurgaon</td>\n",
       "      <td>flat</td>\n",
       "      <td>ramprastha the edge towers</td>\n",
       "      <td>0.75</td>\n",
       "      <td>5319.0</td>\n",
       "      <td>1410.0</td>\n",
       "      <td>Built Up area: 1410 (130.99 sq.m.)</td>\n",
       "      <td>2</td>\n",
       "      <td>2</td>\n",
       "      <td>3</td>\n",
       "      <td>...</td>\n",
       "      <td>Sector 37d, Delhi Gurgaon Expressway, Sector 3...</td>\n",
       "      <td>19.0</td>\n",
       "      <td>NaN</td>\n",
       "      <td>5 to 10 Year Old</td>\n",
       "      <td>['MDS Public School', 'St Pauls School', 'Sunc...</td>\n",
       "      <td>2 bath, unfurnished, 19th floor (Of 19), rampr...</td>\n",
       "      <td>NaN</td>\n",
       "      <td>NaN</td>\n",
       "      <td>['Green Area4 out of 5', 'Construction4 out of...</td>\n",
       "      <td>NaN</td>\n",
       "    </tr>\n",
       "    <tr>\n",
       "      <th>4</th>\n",
       "      <td>3 BHK Flat in Sector 89 Gurgaon</td>\n",
       "      <td>flat</td>\n",
       "      <td>m3m soulitude</td>\n",
       "      <td>1.32</td>\n",
       "      <td>16923.0</td>\n",
       "      <td>780.0</td>\n",
       "      <td>Carpet area: 780 (72.46 sq.m.)</td>\n",
       "      <td>3</td>\n",
       "      <td>3</td>\n",
       "      <td>3</td>\n",
       "      <td>...</td>\n",
       "      <td>S-70/1, Sector 89 Gurgaon, Gurgaon, Haryana</td>\n",
       "      <td>1.0</td>\n",
       "      <td>NaN</td>\n",
       "      <td>Dec 2023</td>\n",
       "      <td>['Vatika Town Square-INXT', 'Sector 86 Road', ...</td>\n",
       "      <td>Near club, in front of club view</td>\n",
       "      <td>NaN</td>\n",
       "      <td>['Power Back-up', 'Intercom Facility', 'Lift(s...</td>\n",
       "      <td>['Environment4 out of 5', 'Safety4 out of 5', ...</td>\n",
       "      <td>NaN</td>\n",
       "    </tr>\n",
       "  </tbody>\n",
       "</table>\n",
       "<p>5 rows × 21 columns</p>\n",
       "</div>"
      ],
      "text/plain": [
       "                                   property_name property_type  \\\n",
       "0  3 Bedroom House for sale in Sector 38 Gurgaon         house   \n",
       "1               3 BHK Flat in Sector 106 Gurgaon          flat   \n",
       "2                          3 BHK Flat in Suncity          flat   \n",
       "3               2 BHK Flat in Sector 37D Gurgaon          flat   \n",
       "4                3 BHK Flat in Sector 89 Gurgaon          flat   \n",
       "\n",
       "                      society  price  price_per_sqft    area  \\\n",
       "0                 independent   3.50         24306.0  1440.0   \n",
       "1                  paras dews   1.40          6000.0  2333.0   \n",
       "2        new sathi apartments   1.59          7066.0  2250.0   \n",
       "3  ramprastha the edge towers   0.75          5319.0  1410.0   \n",
       "4               m3m soulitude   1.32         16923.0   780.0   \n",
       "\n",
       "                             areaWithType  bedRoom  bathroom balcony  ...  \\\n",
       "0         Carpet area: 160 (133.78 sq.m.)        3         3       2  ...   \n",
       "1  Super Built up area 1760(163.51 sq.m.)        3         4      3+  ...   \n",
       "2      Built Up area: 2250 (209.03 sq.m.)        3         3      3+  ...   \n",
       "3      Built Up area: 1410 (130.99 sq.m.)        2         2       3  ...   \n",
       "4          Carpet area: 780 (72.46 sq.m.)        3         3       3  ...   \n",
       "\n",
       "                                             address floorNum  facing  \\\n",
       "0     Sector 38, Sector 38 Gurgaon, Gurgaon, Haryana      NaN    East   \n",
       "1               Sector 106 Gurgaon, Gurgaon, Haryana     12.0     NaN   \n",
       "2                     000, Suncity, Gurgaon, Haryana      3.0   North   \n",
       "3  Sector 37d, Delhi Gurgaon Expressway, Sector 3...     19.0     NaN   \n",
       "4        S-70/1, Sector 89 Gurgaon, Gurgaon, Haryana      1.0     NaN   \n",
       "\n",
       "        agePossession                                    nearbyLocations  \\\n",
       "0     1 to 5 Year Old                                                NaN   \n",
       "1  Under Construction  ['Chintapurni Mandir', 'State bank ATM', 'R K ...   \n",
       "2    5 to 10 Year Old  ['Sector metro station', 'Sector metro station...   \n",
       "3    5 to 10 Year Old  ['MDS Public School', 'St Pauls School', 'Sunc...   \n",
       "4            Dec 2023  ['Vatika Town Square-INXT', 'Sector 86 Road', ...   \n",
       "\n",
       "                                         description  \\\n",
       "0  Best in class property available at sector 38 ...   \n",
       "1                Best location, almost ready to move   \n",
       "2  Brokers please excuse\\n3 bhk +study room resid...   \n",
       "3  2 bath, unfurnished, 19th floor (Of 19), rampr...   \n",
       "4                   Near club, in front of club view   \n",
       "\n",
       "                                      furnishDetails  \\\n",
       "0                                                NaN   \n",
       "1                                                 []   \n",
       "2  ['3 Wardrobe', '1 Water Purifier', '4 Fan', '1...   \n",
       "3                                                NaN   \n",
       "4                                                NaN   \n",
       "\n",
       "                                            features  \\\n",
       "0                                                NaN   \n",
       "1                                                NaN   \n",
       "2  ['Security / Fire Alarm', 'Power Back-up', 'Fe...   \n",
       "3                                                NaN   \n",
       "4  ['Power Back-up', 'Intercom Facility', 'Lift(s...   \n",
       "\n",
       "                                              rating noOfFloor  \n",
       "0  ['Environment4 out of 5', 'Lifestyle4 out of 5...       1.0  \n",
       "1                                                NaN       NaN  \n",
       "2  ['Environment5 out of 5', 'Lifestyle4.5 out of...       NaN  \n",
       "3  ['Green Area4 out of 5', 'Construction4 out of...       NaN  \n",
       "4  ['Environment4 out of 5', 'Safety4 out of 5', ...       NaN  \n",
       "\n",
       "[5 rows x 21 columns]"
      ]
     },
     "execution_count": 27,
     "metadata": {},
     "output_type": "execute_result"
    }
   ],
   "source": [
    "df.head()"
   ]
  },
  {
   "cell_type": "code",
   "execution_count": 28,
   "metadata": {},
   "outputs": [
    {
     "data": {
      "text/plain": [
       "(3960, 21)"
      ]
     },
     "execution_count": 28,
     "metadata": {},
     "output_type": "execute_result"
    }
   ],
   "source": [
    "df.shape"
   ]
  },
  {
   "cell_type": "code",
   "execution_count": 29,
   "metadata": {},
   "outputs": [
    {
     "data": {
      "text/plain": [
       "Index(['property_name', 'property_type', 'society', 'price', 'price_per_sqft',\n",
       "       'area', 'areaWithType', 'bedRoom', 'bathroom', 'balcony',\n",
       "       'additionalRoom', 'address', 'floorNum', 'facing', 'agePossession',\n",
       "       'nearbyLocations', 'description', 'furnishDetails', 'features',\n",
       "       'rating', 'noOfFloor'],\n",
       "      dtype='object')"
      ]
     },
     "execution_count": 29,
     "metadata": {},
     "output_type": "execute_result"
    }
   ],
   "source": [
    "df.columns"
   ]
  },
  {
   "cell_type": "code",
   "execution_count": 30,
   "metadata": {},
   "outputs": [],
   "source": [
    "df.to_csv('gurgaon_properties.csv',index=False)"
   ]
  },
  {
   "cell_type": "code",
   "execution_count": null,
   "metadata": {},
   "outputs": [],
   "source": []
  }
 ],
 "metadata": {
  "kernelspec": {
   "display_name": "Python 3",
   "language": "python",
   "name": "python3"
  },
  "language_info": {
   "codemirror_mode": {
    "name": "ipython",
    "version": 3
   },
   "file_extension": ".py",
   "mimetype": "text/x-python",
   "name": "python",
   "nbconvert_exporter": "python",
   "pygments_lexer": "ipython3",
   "version": "3.12.1"
  }
 },
 "nbformat": 4,
 "nbformat_minor": 2
}
