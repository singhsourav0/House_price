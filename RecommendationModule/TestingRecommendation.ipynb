{
 "cells": [
  {
   "cell_type": "code",
   "execution_count": 1,
   "metadata": {},
   "outputs": [],
   "source": [
    "import pandas as pd\n",
    "import numpy as np"
   ]
  },
  {
   "cell_type": "code",
   "execution_count": 17,
   "metadata": {},
   "outputs": [],
   "source": [
    "import pickle"
   ]
  },
  {
   "cell_type": "code",
   "execution_count": 25,
   "metadata": {},
   "outputs": [],
   "source": [
    "# Load pre-saved similarity matrices and location data\n",
    "with open(\"location_distance.pkl\", \"rb\") as file:\n",
    "    location_df = pickle.load(file)\n",
    "with open(\"cosine_sim1.pkl\", \"rb\") as file:\n",
    "    cosine_sim1 = pickle.load(file)\n",
    "with open(\"cosine_sim2.pkl\", \"rb\") as file:\n",
    "    cosine_sim2 = pickle.load(file)\n",
    "with open(\"cosine_sim3.pkl\", \"rb\") as file:\n",
    "    cosine_sim3 = pickle.load(file)"
   ]
  },
  {
   "cell_type": "code",
   "execution_count": null,
   "metadata": {},
   "outputs": [],
   "source": [
    "def recommend_properties_with_scores(property_name, top_n=5):\n",
    "    \"\"\"Recommends properties based on similarity scores.\"\"\"\n",
    "    cosine_sim_matrix = 0.5 * cosine_sim1 + 0.8 * cosine_sim2 + 1 * cosine_sim3\n",
    "\n",
    "\n",
    "    try:\n",
    "        # Get the similarity scores for the given property\n",
    "        sim_scores = list(enumerate(cosine_sim_matrix[location_df.index.get_loc(property_name)]))\n",
    "\n",
    "        # Sort properties based on similarity scores\n",
    "        sorted_scores = sorted(sim_scores, key=lambda x: x[1], reverse=True)\n",
    "\n",
    "        # Get the indices and scores of the top_n most similar properties\n",
    "        top_indices = [i[0] for i in sorted_scores[1:top_n + 1]]\n",
    "        top_scores = [i[1] for i in sorted_scores[1:top_n + 1]]\n",
    "\n",
    "        # Retrieve the names of the top properties using the indices\n",
    "        top_properties = location_df.index[top_indices].tolist()\n",
    "        distance = location_df\n",
    "\n",
    "        # Create a dataframe with the results\n",
    "        recommendations_df = pd.DataFrame({\n",
    "            'PropertyName': top_properties,\n",
    "            'SimilarityScore': top_scores\n",
    "            # 'Distance' : distance\n",
    "\n",
    "        })\n",
    "\n",
    "        return recommendations_df\n",
    "\n",
    "    except KeyError:\n",
    "        print(f\"Error: '{property_name}' not found in location data.\")\n",
    "        return None\n",
    "\n",
    "\n",
    "# recommendation_df = recommend_properties_with_scores('DLF The Camellias')\n",
    "# print(recommendation_df)\n"
   ]
  },
  {
   "cell_type": "code",
   "execution_count": 69,
   "metadata": {},
   "outputs": [
    {
     "data": {
      "text/plain": [
       "(1070,)"
      ]
     },
     "execution_count": 69,
     "metadata": {},
     "output_type": "execute_result"
    }
   ],
   "source": [
    "(location_df.columns).shape"
   ]
  },
  {
   "cell_type": "code",
   "execution_count": 72,
   "metadata": {},
   "outputs": [
    {
     "name": "stdout",
     "output_type": "stream",
     "text": [
      "\n",
      "==== Select Location and Radius ====\n",
      "\n",
      "Properties within 5.0 km:\n",
      "\n",
      "==== Recommend Apartments ====\n",
      "\n",
      "Recommended Apartments:\n",
      "             PropertyName  SimilarityScore\n",
      "     Emaar MGF Palm Hills         0.765450\n",
      "             M3M Latitude         0.720841\n",
      "Orris Aster Court Premier         0.717884\n",
      "              Trump Tower         0.637444\n",
      "   Krrish Florence Estate         0.625059\n"
     ]
    }
   ],
   "source": [
    "# User Interaction (CLI-based)\n",
    "def main():\n",
    "    \n",
    "    print(\"\\n==== Select Location and Radius ====\")\n",
    "    selected_location = input(\"Enter a location from the list:\\n\" + \", \".join(sorted(location_df.columns.to_list())) + \"\\n\")\n",
    "\n",
    "    try:\n",
    "        radius = float(input(\"Enter radius in kilometers: \"))\n",
    "        result_ser = location_df[location_df[selected_location] < radius * 1000][selected_location].sort_values()\n",
    "\n",
    "        print(\"\\nProperties within\", radius, \"km:\")\n",
    "    \n",
    "    \n",
    "        for key, value in result_ser.items():\n",
    "            \n",
    "            print(f\"{key}: {round(value / 1000)} kms\")\n",
    "        \n",
    "    except KeyError:\n",
    "        print(\"Invalid location selected.\")\n",
    "    except ValueError:\n",
    "        print(\"Invalid input. Please enter a number for radius.\")\n",
    "\n",
    "    print(\"\\n==== Recommend Apartments ====\")\n",
    "    selected_apartment = input(\"Enter an apartment name from the list:\\n\" + \", \".join(sorted(location_df.index.to_list())) + \"\\n\")\n",
    "\n",
    "    recommendation_df = recommend_properties_with_scores(selected_apartment)\n",
    "    \n",
    "    if recommendation_df is not None:\n",
    "        print(\"\\nRecommended Apartments:\")\n",
    "        print(recommendation_df.to_string(index=False))\n",
    "\n",
    "if __name__ == \"__main__\":\n",
    "    main()\n"
   ]
  },
  {
   "cell_type": "markdown",
   "metadata": {},
   "source": [
    "Recommended Apartments:\n",
    "PropertyName SimilarityScore\n",
    "Emaar MGF Palm Hills 0.765450\n",
    "M3M Latitude 0.720841\n",
    "Orris Aster Court Premier 0.717884\n",
    "Trump Tower 0.637444\n",
    "Krrish Florence Estate 0.625059\n"
   ]
  },
  {
   "cell_type": "code",
   "execution_count": 83,
   "metadata": {},
   "outputs": [
    {
     "name": "stdout",
     "output_type": "stream",
     "text": [
      "\n",
      "==== Select Location and Radius ====\n",
      "\n",
      "Properties within 3.0 km:\n",
      "\n",
      "No properties found within the given radius. Try a larger radius.\n"
     ]
    }
   ],
   "source": [
    "import pandas as pd\n",
    "\n",
    "def recommend_properties_with_scores(property_name, filtered_df, top_n=5):\n",
    "    \"\"\"Recommends properties based on similarity scores from the filtered list.\"\"\"\n",
    "    cosine_sim_matrix = 0.5 * cosine_sim1 + 0.8 * cosine_sim2 + 1 * cosine_sim3  # Adjusted weights\n",
    "\n",
    "    try:\n",
    "        # Get similarity scores for the selected property\n",
    "        property_index = location_df.index.get_loc(property_name)\n",
    "        sim_scores = list(enumerate(cosine_sim_matrix[property_index]))\n",
    "\n",
    "        # Sort properties by similarity score (descending)\n",
    "        sorted_scores = sorted(sim_scores, key=lambda x: x[1], reverse=True)\n",
    "\n",
    "        # Get top_n most similar properties\n",
    "        top_indices = [i[0] for i in sorted_scores[1:top_n + 1]]\n",
    "        top_scores = [i[1] for i in sorted_scores[1:top_n + 1]]\n",
    "\n",
    "        # Retrieve property names from indices\n",
    "        top_properties = location_df.index[top_indices].tolist()\n",
    "\n",
    "        # **Extract only properties within the selected radius**\n",
    "        filtered_recommendations = [\n",
    "            (prop, score, round(filtered_df.loc[prop].values[0] / 1000, 2))  # Extract distance\n",
    "            for prop, score in zip(top_properties, top_scores)\n",
    "            if prop in filtered_df.index\n",
    "        ]\n",
    "\n",
    "        # **Create DataFrame with recommendations**\n",
    "        recommendations_df = pd.DataFrame(filtered_recommendations, columns=['PropertyName', 'SimilarityScore', 'Distance (km)'])\n",
    "\n",
    "        return recommendations_df\n",
    "\n",
    "    except KeyError:\n",
    "        print(f\"Error: '{property_name}' not found in location data.\")\n",
    "        return None\n",
    "\n",
    "# User Interaction (CLI-based)\n",
    "def main():\n",
    "    print(\"\\n==== Select Location and Radius ====\")\n",
    "    selected_location = input(\"Enter a location from the list:\\n\" + \", \".join(sorted(location_df.columns.to_list())) + \"\\n\")\n",
    "\n",
    "    try:\n",
    "        radius = float(input(\"Enter radius in kilometers: \"))\n",
    "\n",
    "        # **Filter apartments within the given radius**\n",
    "        filtered_df = location_df[location_df[selected_location] < radius * 1000][[selected_location]]\n",
    "        filtered_df = filtered_df.sort_values(by=selected_location)\n",
    "\n",
    "        print(\"\\nProperties within\", radius, \"km:\")\n",
    "        for key, value in filtered_df[selected_location].items():\n",
    "            print(f\"{key}: {round(value / 1000, 2)} kms\")\n",
    "\n",
    "        if filtered_df.empty:\n",
    "            print(\"\\nNo properties found within the given radius. Try a larger radius.\")\n",
    "            return\n",
    "\n",
    "        # **Now, let the user select from the filtered apartments**\n",
    "        print(\"\\n==== Recommend Apartments ====\")\n",
    "        selected_apartment = input(\"Enter an apartment name from the filtered list:\\n\" + \", \".join(filtered_df.index.to_list()) + \"\\n\")\n",
    "\n",
    "        if selected_apartment not in filtered_df.index:\n",
    "            print(\"Invalid apartment selection. Please select from the filtered list.\")\n",
    "            return\n",
    "\n",
    "        # **Pass only the filtered apartments to the recommendation function**\n",
    "        recommendation_df = recommend_properties_with_scores(selected_apartment, filtered_df)\n",
    "\n",
    "        if recommendation_df is not None and not recommendation_df.empty:\n",
    "            print(\"\\nRecommended Apartments:\")\n",
    "            print(recommendation_df.to_string(index=False))\n",
    "        else:\n",
    "            print(\"No similar apartments found within the selected radius.\")\n",
    "\n",
    "    except KeyError:\n",
    "        print(\"Invalid location selected.\")\n",
    "    except ValueError:\n",
    "        print(\"Invalid input. Please enter a number for radius.\")\n",
    "\n",
    "if __name__ == \"__main__\":\n",
    "    main()\n"
   ]
  },
  {
   "cell_type": "code",
   "execution_count": 81,
   "metadata": {},
   "outputs": [
    {
     "data": {
      "text/plain": [
       "PropertyName\n",
       "Smartworld One DXP             54000.0\n",
       "M3M Crown                      54000.0\n",
       "Adani Brahma Samsara Vilasa    54000.0\n",
       "Sobha City                     54000.0\n",
       "Signature Global City 93       54000.0\n",
       "                                ...   \n",
       "DLF Princeton Estate           54000.0\n",
       "Pyramid Urban Homes 2          54000.0\n",
       "Satya The Hermitage            54000.0\n",
       "BPTP Spacio                    54000.0\n",
       "SS The Coralwood               54000.0\n",
       "Name: AIIMS, Length: 246, dtype: float64"
      ]
     },
     "execution_count": 81,
     "metadata": {},
     "output_type": "execute_result"
    }
   ],
   "source": [
    "location_df['AIIMS']"
   ]
  },
  {
   "cell_type": "code",
   "execution_count": null,
   "metadata": {},
   "outputs": [],
   "source": []
  }
 ],
 "metadata": {
  "kernelspec": {
   "display_name": "Python 3",
   "language": "python",
   "name": "python3"
  },
  "language_info": {
   "codemirror_mode": {
    "name": "ipython",
    "version": 3
   },
   "file_extension": ".py",
   "mimetype": "text/x-python",
   "name": "python",
   "nbconvert_exporter": "python",
   "pygments_lexer": "ipython3",
   "version": "3.12.1"
  }
 },
 "nbformat": 4,
 "nbformat_minor": 2
}
