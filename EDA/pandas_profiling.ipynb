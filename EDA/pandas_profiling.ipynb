{
 "cells": [
  {
   "cell_type": "code",
   "execution_count": 6,
   "metadata": {},
   "outputs": [
    {
     "name": "stdout",
     "output_type": "stream",
     "text": [
      "Collecting pandas_profiling\n",
      "  Using cached pandas_profiling-3.6.6-py2.py3-none-any.whl.metadata (4.5 kB)\n",
      "Collecting ydata-profiling (from pandas_profiling)\n",
      "  Using cached ydata_profiling-4.12.1-py2.py3-none-any.whl.metadata (20 kB)\n",
      "Requirement already satisfied: scipy<1.14,>=1.4.1 in c:\\users\\dell\\python\\project\\langchain\\venv\\lib\\site-packages (from ydata-profiling->pandas_profiling) (1.13.1)\n",
      "Requirement already satisfied: pandas!=1.4.0,<3,>1.1 in c:\\users\\dell\\python\\project\\langchain\\venv\\lib\\site-packages (from ydata-profiling->pandas_profiling) (2.2.2)\n",
      "Collecting matplotlib<3.10,>=3.5 (from ydata-profiling->pandas_profiling)\n",
      "  Using cached matplotlib-3.9.4-cp310-cp310-win_amd64.whl.metadata (11 kB)\n",
      "Collecting pydantic>=2 (from ydata-profiling->pandas_profiling)\n",
      "  Using cached pydantic-2.10.5-py3-none-any.whl.metadata (30 kB)\n",
      "Requirement already satisfied: PyYAML<6.1,>=5.0.0 in c:\\users\\dell\\python\\project\\langchain\\venv\\lib\\site-packages (from ydata-profiling->pandas_profiling) (6.0.2)\n",
      "Requirement already satisfied: jinja2<3.2,>=2.11.1 in c:\\users\\dell\\python\\project\\langchain\\venv\\lib\\site-packages (from ydata-profiling->pandas_profiling) (3.1.4)\n",
      "Collecting visions<0.7.7,>=0.7.5 (from visions[type_image_path]<0.7.7,>=0.7.5->ydata-profiling->pandas_profiling)\n",
      "  Using cached visions-0.7.6-py3-none-any.whl.metadata (11 kB)\n",
      "Requirement already satisfied: numpy<2.2,>=1.16.0 in c:\\users\\dell\\python\\project\\langchain\\venv\\lib\\site-packages (from ydata-profiling->pandas_profiling) (2.0.2)\n",
      "Requirement already satisfied: htmlmin==0.1.12 in c:\\users\\dell\\python\\project\\langchain\\venv\\lib\\site-packages (from ydata-profiling->pandas_profiling) (0.1.12)\n",
      "Collecting phik<0.13,>=0.11.1 (from ydata-profiling->pandas_profiling)\n",
      "  Using cached phik-0.12.4-cp310-cp310-win_amd64.whl.metadata (5.6 kB)\n",
      "Requirement already satisfied: requests<3,>=2.24.0 in c:\\users\\dell\\python\\project\\langchain\\venv\\lib\\site-packages (from ydata-profiling->pandas_profiling) (2.32.3)\n",
      "Requirement already satisfied: tqdm<5,>=4.48.2 in c:\\users\\dell\\python\\project\\langchain\\venv\\lib\\site-packages (from ydata-profiling->pandas_profiling) (4.67.1)\n",
      "Collecting seaborn<0.14,>=0.10.1 (from ydata-profiling->pandas_profiling)\n",
      "  Using cached seaborn-0.13.2-py3-none-any.whl.metadata (5.4 kB)\n",
      "Requirement already satisfied: multimethod<2,>=1.4 in c:\\users\\dell\\python\\project\\langchain\\venv\\lib\\site-packages (from ydata-profiling->pandas_profiling) (1.12)\n",
      "Collecting statsmodels<1,>=0.13.2 (from ydata-profiling->pandas_profiling)\n",
      "  Using cached statsmodels-0.14.4-cp310-cp310-win_amd64.whl.metadata (9.5 kB)\n",
      "Requirement already satisfied: typeguard<5,>=3 in c:\\users\\dell\\python\\project\\langchain\\venv\\lib\\site-packages (from ydata-profiling->pandas_profiling) (4.4.1)\n",
      "Collecting imagehash==4.3.1 (from ydata-profiling->pandas_profiling)\n",
      "  Using cached ImageHash-4.3.1-py2.py3-none-any.whl.metadata (8.0 kB)\n",
      "Collecting wordcloud>=1.9.3 (from ydata-profiling->pandas_profiling)\n",
      "  Using cached wordcloud-1.9.4-cp310-cp310-win_amd64.whl.metadata (3.5 kB)\n",
      "Requirement already satisfied: dacite>=1.8 in c:\\users\\dell\\python\\project\\langchain\\venv\\lib\\site-packages (from ydata-profiling->pandas_profiling) (1.8.1)\n",
      "Collecting numba<1,>=0.56.0 (from ydata-profiling->pandas_profiling)\n",
      "  Using cached numba-0.60.0-cp310-cp310-win_amd64.whl.metadata (2.8 kB)\n",
      "Collecting PyWavelets (from imagehash==4.3.1->ydata-profiling->pandas_profiling)\n",
      "  Using cached pywavelets-1.8.0-cp310-cp310-win_amd64.whl.metadata (9.0 kB)\n",
      "Requirement already satisfied: pillow in c:\\users\\dell\\python\\project\\langchain\\venv\\lib\\site-packages (from imagehash==4.3.1->ydata-profiling->pandas_profiling) (10.4.0)\n",
      "Requirement already satisfied: MarkupSafe>=2.0 in c:\\users\\dell\\python\\project\\langchain\\venv\\lib\\site-packages (from jinja2<3.2,>=2.11.1->ydata-profiling->pandas_profiling) (2.1.5)\n",
      "Collecting contourpy>=1.0.1 (from matplotlib<3.10,>=3.5->ydata-profiling->pandas_profiling)\n",
      "  Using cached contourpy-1.3.1-cp310-cp310-win_amd64.whl.metadata (5.4 kB)\n",
      "Requirement already satisfied: cycler>=0.10 in c:\\users\\dell\\python\\project\\langchain\\venv\\lib\\site-packages (from matplotlib<3.10,>=3.5->ydata-profiling->pandas_profiling) (0.12.1)\n",
      "Requirement already satisfied: fonttools>=4.22.0 in c:\\users\\dell\\python\\project\\langchain\\venv\\lib\\site-packages (from matplotlib<3.10,>=3.5->ydata-profiling->pandas_profiling) (4.55.3)\n",
      "Requirement already satisfied: kiwisolver>=1.3.1 in c:\\users\\dell\\python\\project\\langchain\\venv\\lib\\site-packages (from matplotlib<3.10,>=3.5->ydata-profiling->pandas_profiling) (1.4.8)\n",
      "Requirement already satisfied: packaging>=20.0 in c:\\users\\dell\\python\\project\\langchain\\venv\\lib\\site-packages (from matplotlib<3.10,>=3.5->ydata-profiling->pandas_profiling) (24.1)\n",
      "Requirement already satisfied: pyparsing>=2.3.1 in c:\\users\\dell\\python\\project\\langchain\\venv\\lib\\site-packages (from matplotlib<3.10,>=3.5->ydata-profiling->pandas_profiling) (3.2.1)\n",
      "Requirement already satisfied: python-dateutil>=2.7 in c:\\users\\dell\\python\\project\\langchain\\venv\\lib\\site-packages (from matplotlib<3.10,>=3.5->ydata-profiling->pandas_profiling) (2.9.0.post0)\n",
      "Requirement already satisfied: llvmlite<0.44,>=0.43.0dev0 in c:\\users\\dell\\python\\project\\langchain\\venv\\lib\\site-packages (from numba<1,>=0.56.0->ydata-profiling->pandas_profiling) (0.43.0)\n",
      "Requirement already satisfied: pytz>=2020.1 in c:\\users\\dell\\python\\project\\langchain\\venv\\lib\\site-packages (from pandas!=1.4.0,<3,>1.1->ydata-profiling->pandas_profiling) (2024.1)\n",
      "Requirement already satisfied: tzdata>=2022.7 in c:\\users\\dell\\python\\project\\langchain\\venv\\lib\\site-packages (from pandas!=1.4.0,<3,>1.1->ydata-profiling->pandas_profiling) (2024.1)\n",
      "Requirement already satisfied: joblib>=0.14.1 in c:\\users\\dell\\python\\project\\langchain\\venv\\lib\\site-packages (from phik<0.13,>=0.11.1->ydata-profiling->pandas_profiling) (1.4.2)\n",
      "Requirement already satisfied: annotated-types>=0.6.0 in c:\\users\\dell\\python\\project\\langchain\\venv\\lib\\site-packages (from pydantic>=2->ydata-profiling->pandas_profiling) (0.7.0)\n",
      "Requirement already satisfied: pydantic-core==2.27.2 in c:\\users\\dell\\python\\project\\langchain\\venv\\lib\\site-packages (from pydantic>=2->ydata-profiling->pandas_profiling) (2.27.2)\n",
      "Requirement already satisfied: typing-extensions>=4.12.2 in c:\\users\\dell\\python\\project\\langchain\\venv\\lib\\site-packages (from pydantic>=2->ydata-profiling->pandas_profiling) (4.12.2)\n",
      "Requirement already satisfied: charset-normalizer<4,>=2 in c:\\users\\dell\\python\\project\\langchain\\venv\\lib\\site-packages (from requests<3,>=2.24.0->ydata-profiling->pandas_profiling) (3.3.2)\n",
      "Requirement already satisfied: idna<4,>=2.5 in c:\\users\\dell\\python\\project\\langchain\\venv\\lib\\site-packages (from requests<3,>=2.24.0->ydata-profiling->pandas_profiling) (3.8)\n",
      "Requirement already satisfied: urllib3<3,>=1.21.1 in c:\\users\\dell\\python\\project\\langchain\\venv\\lib\\site-packages (from requests<3,>=2.24.0->ydata-profiling->pandas_profiling) (2.2.2)\n",
      "Requirement already satisfied: certifi>=2017.4.17 in c:\\users\\dell\\python\\project\\langchain\\venv\\lib\\site-packages (from requests<3,>=2.24.0->ydata-profiling->pandas_profiling) (2024.8.30)\n",
      "Collecting patsy>=0.5.6 (from statsmodels<1,>=0.13.2->ydata-profiling->pandas_profiling)\n",
      "  Using cached patsy-1.0.1-py2.py3-none-any.whl.metadata (3.3 kB)\n",
      "Requirement already satisfied: colorama in c:\\users\\dell\\python\\project\\langchain\\venv\\lib\\site-packages (from tqdm<5,>=4.48.2->ydata-profiling->pandas_profiling) (0.4.6)\n",
      "Requirement already satisfied: attrs>=19.3.0 in c:\\users\\dell\\python\\project\\langchain\\venv\\lib\\site-packages (from visions<0.7.7,>=0.7.5->visions[type_image_path]<0.7.7,>=0.7.5->ydata-profiling->pandas_profiling) (24.2.0)\n",
      "Requirement already satisfied: networkx>=2.4 in c:\\users\\dell\\python\\project\\langchain\\venv\\lib\\site-packages (from visions<0.7.7,>=0.7.5->visions[type_image_path]<0.7.7,>=0.7.5->ydata-profiling->pandas_profiling) (3.4.2)\n",
      "Requirement already satisfied: six>=1.5 in c:\\users\\dell\\python\\project\\langchain\\venv\\lib\\site-packages (from python-dateutil>=2.7->matplotlib<3.10,>=3.5->ydata-profiling->pandas_profiling) (1.16.0)\n",
      "Using cached pandas_profiling-3.6.6-py2.py3-none-any.whl (324 kB)\n",
      "Using cached ydata_profiling-4.12.1-py2.py3-none-any.whl (390 kB)\n",
      "Using cached ImageHash-4.3.1-py2.py3-none-any.whl (296 kB)\n",
      "Using cached matplotlib-3.9.4-cp310-cp310-win_amd64.whl (7.8 MB)\n",
      "Using cached numba-0.60.0-cp310-cp310-win_amd64.whl (2.7 MB)\n",
      "Using cached phik-0.12.4-cp310-cp310-win_amd64.whl (666 kB)\n",
      "Using cached pydantic-2.10.5-py3-none-any.whl (431 kB)\n",
      "Using cached seaborn-0.13.2-py3-none-any.whl (294 kB)\n",
      "Using cached statsmodels-0.14.4-cp310-cp310-win_amd64.whl (9.8 MB)\n",
      "Using cached visions-0.7.6-py3-none-any.whl (104 kB)\n",
      "Using cached wordcloud-1.9.4-cp310-cp310-win_amd64.whl (299 kB)\n",
      "Using cached contourpy-1.3.1-cp310-cp310-win_amd64.whl (218 kB)\n",
      "Using cached patsy-1.0.1-py2.py3-none-any.whl (232 kB)\n",
      "Using cached pywavelets-1.8.0-cp310-cp310-win_amd64.whl (4.2 MB)\n",
      "Installing collected packages: PyWavelets, patsy, numba, contourpy, pydantic, matplotlib, imagehash, wordcloud, visions, statsmodels, seaborn, phik, ydata-profiling, pandas_profiling\n"
     ]
    },
    {
     "name": "stderr",
     "output_type": "stream",
     "text": [
      "ERROR: Could not install packages due to an OSError: [WinError 32] The process cannot access the file because it is being used by another process: 'C:\\\\Users\\\\Dell\\\\python\\\\PROJECT\\\\LANGCHAIN\\\\venv\\\\Lib\\\\site-packages\\\\numba\\\\core\\\\typed_passes.py'\n",
      "Consider using the `--user` option or check the permissions.\n",
      "\n"
     ]
    }
   ],
   "source": [
    "! pip install pandas_profiling"
   ]
  },
  {
   "cell_type": "code",
   "execution_count": 1,
   "metadata": {},
   "outputs": [],
   "source": [
    "import pandas as pd"
   ]
  },
  {
   "cell_type": "code",
   "execution_count": 5,
   "metadata": {},
   "outputs": [
    {
     "ename": "ModuleNotFoundError",
     "evalue": "No module named 'pandas_profiling'",
     "output_type": "error",
     "traceback": [
      "\u001b[1;31m---------------------------------------------------------------------------\u001b[0m",
      "\u001b[1;31mModuleNotFoundError\u001b[0m                       Traceback (most recent call last)",
      "Cell \u001b[1;32mIn[5], line 2\u001b[0m\n\u001b[0;32m      1\u001b[0m \u001b[38;5;28;01mimport\u001b[39;00m\u001b[38;5;250m \u001b[39m\u001b[38;5;21;01mpandas\u001b[39;00m\u001b[38;5;250m \u001b[39m\u001b[38;5;28;01mas\u001b[39;00m\u001b[38;5;250m \u001b[39m\u001b[38;5;21;01mpd\u001b[39;00m\n\u001b[1;32m----> 2\u001b[0m \u001b[38;5;28;01mfrom\u001b[39;00m\u001b[38;5;250m \u001b[39m\u001b[38;5;21;01mpandas_profiling\u001b[39;00m\u001b[38;5;250m \u001b[39m\u001b[38;5;28;01mimport\u001b[39;00m ProfileReport\n\u001b[0;32m      4\u001b[0m \u001b[38;5;66;03m# Load your dataset\u001b[39;00m\n\u001b[0;32m      5\u001b[0m df \u001b[38;5;241m=\u001b[39m pd\u001b[38;5;241m.\u001b[39mread_csv(\u001b[38;5;124m'\u001b[39m\u001b[38;5;124mgurgaon_properties_cleaned_v2.csv\u001b[39m\u001b[38;5;124m'\u001b[39m)\u001b[38;5;241m.\u001b[39mdrop_duplicates()\n",
      "\u001b[1;31mModuleNotFoundError\u001b[0m: No module named 'pandas_profiling'"
     ]
    }
   ],
   "source": [
    "import pandas as pd\n",
    "from pandas_profiling import ProfileReport\n",
    "\n",
    "# Load your dataset\n",
    "df = pd.read_csv('gurgaon_properties_cleaned_v2.csv').drop_duplicates()\n",
    "\n",
    "# Create the ProfileReport object\n",
    "profile = ProfileReport(df, title='Pandas Profiling Report', explorative=True)\n",
    "\n",
    "# Generate the report\n",
    "profile.to_file(\"output_report.html\")"
   ]
  },
  {
   "cell_type": "code",
   "execution_count": null,
   "metadata": {},
   "outputs": [],
   "source": []
  }
 ],
 "metadata": {
  "kernelspec": {
   "display_name": "Python 3",
   "language": "python",
   "name": "python3"
  },
  "language_info": {
   "codemirror_mode": {
    "name": "ipython",
    "version": 3
   },
   "file_extension": ".py",
   "mimetype": "text/x-python",
   "name": "python",
   "nbconvert_exporter": "python",
   "pygments_lexer": "ipython3",
   "version": "3.10.16"
  }
 },
 "nbformat": 4,
 "nbformat_minor": 2
}
